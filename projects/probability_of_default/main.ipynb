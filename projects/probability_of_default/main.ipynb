{
 "cells": [
  {
   "cell_type": "code",
   "execution_count": 2,
   "id": "944a2d92",
   "metadata": {},
   "outputs": [],
   "source": [
    "import os\n",
    "from utils.core.config import initialize_daanish, load_project_config\n",
    "from utils.data_io import load_data\n",
    "from utils.core.feature_manager import FeatureManager\n",
    "from utils.eda.descriptive import DescriptiveAnalysis\n",
    "from utils.viz.display import DisplayUtils\n",
    "from utils.core.save_manager import SaveUtils\n",
    "from utils.core.format_utils import FormatUtils\n",
    "from utils.eda.statistical import StatisticalAnalysis\n",
    "from utils.eda.visualisation import Visualisation\n",
    "from utils.eda.correlation import CorrelationAnalyzer\n",
    "import pandas as pd\n",
    "from utils.preprocessing.missing_values import MissingValueHandler\n",
    "from utils.features.selector import FeatureSelector\n",
    "from utils.eda.outlier_detection import OutlierDetector\n",
    "from utils.preprocessing.outlier_treatment import OutlierHandler\n"
   ]
  },
  {
   "cell_type": "markdown",
   "id": "6ba7f734",
   "metadata": {},
   "source": [
    "#### Step 1: Project Initialization and Data Loading \n",
    "In this step, we:\n",
    "- Initialize the Daanish core setup\n",
    "- Access global and project-specific configuration values\n",
    "- Construct input and output paths based on project settings\n",
    "- Load the main dataset for modeling\n",
    "- Load the list of model features along with their attributes"
   ]
  },
  {
   "cell_type": "markdown",
   "id": "80a4f423",
   "metadata": {},
   "source": [
    "- Initialize the Daanish core setup"
   ]
  },
  {
   "cell_type": "code",
   "execution_count": 3,
   "id": "6f66fa0d",
   "metadata": {},
   "outputs": [
    {
     "name": "stdout",
     "output_type": "stream",
     "text": [
      "Daanish core setup complete.\n"
     ]
    }
   ],
   "source": [
    "global_config = initialize_daanish()\n"
   ]
  },
  {
   "cell_type": "markdown",
   "id": "c25eef0a",
   "metadata": {},
   "source": [
    "- Access global and project-specific configuration values"
   ]
  },
  {
   "cell_type": "code",
   "execution_count": 4,
   "id": "d44e0409",
   "metadata": {},
   "outputs": [
    {
     "name": "stderr",
     "output_type": "stream",
     "text": [
      "INFO:utils.core.config:Loading project configuration from c:\\Data Science Projects\\Daanish\\projects\\probability_of_default\\project_config.ini\n",
      "INFO:utils.core.config:Project configuration loaded successfully\n"
     ]
    }
   ],
   "source": [
    "\n",
    "project_root = os.getcwd()\n",
    "project_config = load_project_config(project_root)\n",
    "\n",
    "input_data_folder = project_config.get('paths', 'input_data_folder')\n",
    "output_data_folder = project_config.get('paths', 'output_data_folder')\n",
    "main_dataset = project_config.get('input_files', 'main_dataset')\n",
    "model_features = project_config.get('input_files', 'features_attributes')\n",
    "source_type = project_config.get('datasource_type', 'source_type')\n",
    "main_dataset_query = project_config.get('db_queries', 'main_dataset_query')\n",
    "model_features_query = project_config.get('db_queries', 'model_features_query')"
   ]
  },
  {
   "cell_type": "markdown",
   "id": "9d8ede6a",
   "metadata": {},
   "source": [
    "- Construct input and output paths based on project settings"
   ]
  },
  {
   "cell_type": "code",
   "execution_count": 5,
   "id": "6a2531fd",
   "metadata": {},
   "outputs": [],
   "source": [
    "\n",
    "input_path = os.path.join(project_root, input_data_folder)\n",
    "output_path = os.path.join(project_root, output_data_folder)"
   ]
  },
  {
   "cell_type": "markdown",
   "id": "0678bdf3",
   "metadata": {},
   "source": [
    "- Load the main dataset for modeling"
   ]
  },
  {
   "cell_type": "code",
   "execution_count": 6,
   "id": "5122cd91",
   "metadata": {},
   "outputs": [],
   "source": [
    "main_df = load_data(\n",
    "    source_type=source_type,\n",
    "    input_path=os.path.join(input_path, main_dataset),\n",
    "    query=main_dataset_query,\n",
    "    global_config=global_config\n",
    ")"
   ]
  },
  {
   "cell_type": "markdown",
   "id": "8665cc68",
   "metadata": {},
   "source": [
    "- Load the list of model features along with their attributes"
   ]
  },
  {
   "cell_type": "code",
   "execution_count": 7,
   "id": "1521de89",
   "metadata": {},
   "outputs": [
    {
     "name": "stdout",
     "output_type": "stream",
     "text": [
      "Warning: invalid JSON in outlier_params for feature 'person_income'\n",
      "Warning: invalid JSON in outlier_params for feature 'person_home_ownership'\n",
      "Warning: invalid JSON in outlier_params for feature 'loan_intent'\n",
      "Warning: invalid JSON in outlier_params for feature 'loan_grade'\n",
      "Warning: invalid JSON in outlier_params for feature 'loan_amnt'\n",
      "Warning: invalid JSON in outlier_params for feature 'loan_int_rate'\n",
      "Warning: invalid JSON in outlier_params for feature 'loan_status'\n",
      "Warning: invalid JSON in outlier_params for feature 'loan_percent_income'\n",
      "Warning: invalid JSON in outlier_params for feature 'cb_person_default_on_file'\n",
      "Warning: invalid JSON in outlier_params for feature 'cb_person_cred_hist_length'\n"
     ]
    }
   ],
   "source": [
    "feature_manager = FeatureManager(\n",
    "    source_type=source_type,\n",
    "    input_path=os.path.join(input_path, model_features),\n",
    "    global_config=global_config,\n",
    "    query=model_features_query\n",
    ")\n",
    "\n",
    "# Feature types\n",
    "nominal_features = feature_manager.get_nominal_features()\n",
    "ordinal_features = feature_manager.get_ordinal_features()\n",
    "numerical_features = feature_manager.get_numerical_features()\n",
    "target_variable = feature_manager.get_target_variable()\n",
    "all_features = feature_manager.get_all_features()\n",
    "\n",
    "# Missing value handling\n",
    "missing_value_strategies = feature_manager.get_missing_value_strategies()\n",
    "missing_fill_values = feature_manager.get_missing_fill_values()\n",
    "\n",
    "# Display names\n",
    "display_names = feature_manager.get_display_names()\n",
    "\n",
    "# Outlier handling configs\n",
    "outlier_strategies = feature_manager.get_outlier_detection_strategies()\n",
    "outlier_params = feature_manager.get_outlier_detection_params()\n",
    "outlier_imputation_methods = feature_manager.get_outlier_imputation_methods()\n",
    "outlier_imputation_values = feature_manager.get_outlier_imputation_values()\n",
    "outlier_config_bundle = feature_manager.get_outlier_config_bundle()\n",
    "\n",
    "# print(\"Nominal Features:\", nominal_features)\n",
    "# print(\"Ordinal Features:\", ordinal_features)\n",
    "# print(\"Numerical Features:\", numerical_features)\n",
    "# print(\"Target Variable:\", target_variable)\n",
    "# print(\"All Features:\", all_features)\n",
    "# print(\"Missing Value Strategies:\", missing_value_strategies)\n",
    "# print(\"Missing Fill Values:\", missing_fill_values)\n",
    "# print(\"Display Names:\", display_names)"
   ]
  },
  {
   "cell_type": "markdown",
   "id": "6ba1ccff",
   "metadata": {},
   "source": [
    "#### Step 2: Preliminary Exploratory Data Analysis (EDA)\n",
    "\n",
    "In this step, we explore the raw dataset to understand its structure, identify potential issues (e.g., missing values, outliers, inconsistent types), and gain initial insights into data distributions. This provides the foundation for informed preprocessing and feature engineering decisions later."
   ]
  },
  {
   "cell_type": "code",
   "execution_count": 8,
   "id": "5360cc04",
   "metadata": {},
   "outputs": [],
   "source": [
    "# initializing the `DescriptiveAnalysis` class with our main dataset\n",
    "eda_desc = DescriptiveAnalysis(main_df)"
   ]
  },
  {
   "cell_type": "markdown",
   "id": "e0ac0311",
   "metadata": {},
   "source": [
    "- 2.1 data sample"
   ]
  },
  {
   "cell_type": "code",
   "execution_count": 9,
   "id": "75d8d018",
   "metadata": {},
   "outputs": [
    {
     "data": {
      "text/html": [
       "<style type=\"text/css\">\n",
       "#T_4e378 th {\n",
       "  background-color: #f2f2f2;\n",
       "  color: black;\n",
       "  font-weight: bold;\n",
       "}\n",
       "#T_4e378_row0_col0, #T_4e378_row0_col1, #T_4e378_row0_col2, #T_4e378_row0_col3, #T_4e378_row0_col4, #T_4e378_row0_col5, #T_4e378_row0_col6, #T_4e378_row0_col7, #T_4e378_row0_col8, #T_4e378_row0_col9, #T_4e378_row0_col10, #T_4e378_row0_col11, #T_4e378_row1_col0, #T_4e378_row1_col1, #T_4e378_row1_col2, #T_4e378_row1_col3, #T_4e378_row1_col4, #T_4e378_row1_col5, #T_4e378_row1_col6, #T_4e378_row1_col7, #T_4e378_row1_col8, #T_4e378_row1_col9, #T_4e378_row1_col10, #T_4e378_row1_col11, #T_4e378_row2_col0, #T_4e378_row2_col1, #T_4e378_row2_col2, #T_4e378_row2_col3, #T_4e378_row2_col4, #T_4e378_row2_col5, #T_4e378_row2_col6, #T_4e378_row2_col7, #T_4e378_row2_col8, #T_4e378_row2_col9, #T_4e378_row2_col10, #T_4e378_row2_col11, #T_4e378_row3_col0, #T_4e378_row3_col1, #T_4e378_row3_col2, #T_4e378_row3_col3, #T_4e378_row3_col4, #T_4e378_row3_col5, #T_4e378_row3_col6, #T_4e378_row3_col7, #T_4e378_row3_col8, #T_4e378_row3_col9, #T_4e378_row3_col10, #T_4e378_row3_col11, #T_4e378_row4_col0, #T_4e378_row4_col1, #T_4e378_row4_col2, #T_4e378_row4_col3, #T_4e378_row4_col4, #T_4e378_row4_col5, #T_4e378_row4_col6, #T_4e378_row4_col7, #T_4e378_row4_col8, #T_4e378_row4_col9, #T_4e378_row4_col10, #T_4e378_row4_col11 {\n",
       "  text-align: center;\n",
       "}\n",
       "</style>\n",
       "<table id=\"T_4e378\">\n",
       "  <thead>\n",
       "    <tr>\n",
       "      <th class=\"blank level0\" >&nbsp;</th>\n",
       "      <th id=\"T_4e378_level0_col0\" class=\"col_heading level0 col0\" >person_age</th>\n",
       "      <th id=\"T_4e378_level0_col1\" class=\"col_heading level0 col1\" >person_income</th>\n",
       "      <th id=\"T_4e378_level0_col2\" class=\"col_heading level0 col2\" >person_home_ownership</th>\n",
       "      <th id=\"T_4e378_level0_col3\" class=\"col_heading level0 col3\" >person_emp_length</th>\n",
       "      <th id=\"T_4e378_level0_col4\" class=\"col_heading level0 col4\" >loan_intent</th>\n",
       "      <th id=\"T_4e378_level0_col5\" class=\"col_heading level0 col5\" >loan_grade</th>\n",
       "      <th id=\"T_4e378_level0_col6\" class=\"col_heading level0 col6\" >loan_amnt</th>\n",
       "      <th id=\"T_4e378_level0_col7\" class=\"col_heading level0 col7\" >loan_int_rate</th>\n",
       "      <th id=\"T_4e378_level0_col8\" class=\"col_heading level0 col8\" >loan_status</th>\n",
       "      <th id=\"T_4e378_level0_col9\" class=\"col_heading level0 col9\" >loan_percent_income</th>\n",
       "      <th id=\"T_4e378_level0_col10\" class=\"col_heading level0 col10\" >cb_person_default_on_file</th>\n",
       "      <th id=\"T_4e378_level0_col11\" class=\"col_heading level0 col11\" >cb_person_cred_hist_length</th>\n",
       "    </tr>\n",
       "  </thead>\n",
       "  <tbody>\n",
       "    <tr>\n",
       "      <th id=\"T_4e378_level0_row0\" class=\"row_heading level0 row0\" >26869</th>\n",
       "      <td id=\"T_4e378_row0_col0\" class=\"data row0 col0\" >28</td>\n",
       "      <td id=\"T_4e378_row0_col1\" class=\"data row0 col1\" >115000</td>\n",
       "      <td id=\"T_4e378_row0_col2\" class=\"data row0 col2\" >MORTGAGE</td>\n",
       "      <td id=\"T_4e378_row0_col3\" class=\"data row0 col3\" >6.000000</td>\n",
       "      <td id=\"T_4e378_row0_col4\" class=\"data row0 col4\" >HOMEIMPROVEMENT</td>\n",
       "      <td id=\"T_4e378_row0_col5\" class=\"data row0 col5\" >A</td>\n",
       "      <td id=\"T_4e378_row0_col6\" class=\"data row0 col6\" >10000</td>\n",
       "      <td id=\"T_4e378_row0_col7\" class=\"data row0 col7\" >8.000000</td>\n",
       "      <td id=\"T_4e378_row0_col8\" class=\"data row0 col8\" >0</td>\n",
       "      <td id=\"T_4e378_row0_col9\" class=\"data row0 col9\" >0.090000</td>\n",
       "      <td id=\"T_4e378_row0_col10\" class=\"data row0 col10\" >N</td>\n",
       "      <td id=\"T_4e378_row0_col11\" class=\"data row0 col11\" >8</td>\n",
       "    </tr>\n",
       "    <tr>\n",
       "      <th id=\"T_4e378_level0_row1\" class=\"row_heading level0 row1\" >4389</th>\n",
       "      <td id=\"T_4e378_row1_col0\" class=\"data row1 col0\" >24</td>\n",
       "      <td id=\"T_4e378_row1_col1\" class=\"data row1 col1\" >30000</td>\n",
       "      <td id=\"T_4e378_row1_col2\" class=\"data row1 col2\" >RENT</td>\n",
       "      <td id=\"T_4e378_row1_col3\" class=\"data row1 col3\" >8.000000</td>\n",
       "      <td id=\"T_4e378_row1_col4\" class=\"data row1 col4\" >VENTURE</td>\n",
       "      <td id=\"T_4e378_row1_col5\" class=\"data row1 col5\" >B</td>\n",
       "      <td id=\"T_4e378_row1_col6\" class=\"data row1 col6\" >4800</td>\n",
       "      <td id=\"T_4e378_row1_col7\" class=\"data row1 col7\" >11.490000</td>\n",
       "      <td id=\"T_4e378_row1_col8\" class=\"data row1 col8\" >0</td>\n",
       "      <td id=\"T_4e378_row1_col9\" class=\"data row1 col9\" >0.160000</td>\n",
       "      <td id=\"T_4e378_row1_col10\" class=\"data row1 col10\" >N</td>\n",
       "      <td id=\"T_4e378_row1_col11\" class=\"data row1 col11\" >2</td>\n",
       "    </tr>\n",
       "    <tr>\n",
       "      <th id=\"T_4e378_level0_row2\" class=\"row_heading level0 row2\" >31321</th>\n",
       "      <td id=\"T_4e378_row2_col0\" class=\"data row2 col0\" >49</td>\n",
       "      <td id=\"T_4e378_row2_col1\" class=\"data row2 col1\" >88000</td>\n",
       "      <td id=\"T_4e378_row2_col2\" class=\"data row2 col2\" >RENT</td>\n",
       "      <td id=\"T_4e378_row2_col3\" class=\"data row2 col3\" >11.000000</td>\n",
       "      <td id=\"T_4e378_row2_col4\" class=\"data row2 col4\" >VENTURE</td>\n",
       "      <td id=\"T_4e378_row2_col5\" class=\"data row2 col5\" >A</td>\n",
       "      <td id=\"T_4e378_row2_col6\" class=\"data row2 col6\" >12000</td>\n",
       "      <td id=\"T_4e378_row2_col7\" class=\"data row2 col7\" >6.620000</td>\n",
       "      <td id=\"T_4e378_row2_col8\" class=\"data row2 col8\" >0</td>\n",
       "      <td id=\"T_4e378_row2_col9\" class=\"data row2 col9\" >0.140000</td>\n",
       "      <td id=\"T_4e378_row2_col10\" class=\"data row2 col10\" >N</td>\n",
       "      <td id=\"T_4e378_row2_col11\" class=\"data row2 col11\" >17</td>\n",
       "    </tr>\n",
       "    <tr>\n",
       "      <th id=\"T_4e378_level0_row3\" class=\"row_heading level0 row3\" >32461</th>\n",
       "      <td id=\"T_4e378_row3_col0\" class=\"data row3 col0\" >52</td>\n",
       "      <td id=\"T_4e378_row3_col1\" class=\"data row3 col1\" >69996</td>\n",
       "      <td id=\"T_4e378_row3_col2\" class=\"data row3 col2\" >OWN</td>\n",
       "      <td id=\"T_4e378_row3_col3\" class=\"data row3 col3\" >3.000000</td>\n",
       "      <td id=\"T_4e378_row3_col4\" class=\"data row3 col4\" >PERSONAL</td>\n",
       "      <td id=\"T_4e378_row3_col5\" class=\"data row3 col5\" >B</td>\n",
       "      <td id=\"T_4e378_row3_col6\" class=\"data row3 col6\" >12000</td>\n",
       "      <td id=\"T_4e378_row3_col7\" class=\"data row3 col7\" >11.110000</td>\n",
       "      <td id=\"T_4e378_row3_col8\" class=\"data row3 col8\" >0</td>\n",
       "      <td id=\"T_4e378_row3_col9\" class=\"data row3 col9\" >0.170000</td>\n",
       "      <td id=\"T_4e378_row3_col10\" class=\"data row3 col10\" >N</td>\n",
       "      <td id=\"T_4e378_row3_col11\" class=\"data row3 col11\" >22</td>\n",
       "    </tr>\n",
       "    <tr>\n",
       "      <th id=\"T_4e378_level0_row4\" class=\"row_heading level0 row4\" >29093</th>\n",
       "      <td id=\"T_4e378_row4_col0\" class=\"data row4 col0\" >27</td>\n",
       "      <td id=\"T_4e378_row4_col1\" class=\"data row4 col1\" >56888</td>\n",
       "      <td id=\"T_4e378_row4_col2\" class=\"data row4 col2\" >RENT</td>\n",
       "      <td id=\"T_4e378_row4_col3\" class=\"data row4 col3\" >8.000000</td>\n",
       "      <td id=\"T_4e378_row4_col4\" class=\"data row4 col4\" >EDUCATION</td>\n",
       "      <td id=\"T_4e378_row4_col5\" class=\"data row4 col5\" >D</td>\n",
       "      <td id=\"T_4e378_row4_col6\" class=\"data row4 col6\" >8000</td>\n",
       "      <td id=\"T_4e378_row4_col7\" class=\"data row4 col7\" >16.290000</td>\n",
       "      <td id=\"T_4e378_row4_col8\" class=\"data row4 col8\" >0</td>\n",
       "      <td id=\"T_4e378_row4_col9\" class=\"data row4 col9\" >0.140000</td>\n",
       "      <td id=\"T_4e378_row4_col10\" class=\"data row4 col10\" >Y</td>\n",
       "      <td id=\"T_4e378_row4_col11\" class=\"data row4 col11\" >5</td>\n",
       "    </tr>\n",
       "  </tbody>\n",
       "</table>\n"
      ],
      "text/plain": [
       "<pandas.io.formats.style.Styler at 0x24720256550>"
      ]
     },
     "metadata": {},
     "output_type": "display_data"
    }
   ],
   "source": [
    "sample_data = eda_desc.get_data_samples(5)\n",
    "DisplayUtils.show_dataframe_notebook(sample_data)"
   ]
  },
  {
   "cell_type": "markdown",
   "id": "df9c06ae",
   "metadata": {},
   "source": [
    "- 2.2 dataset summary"
   ]
  },
  {
   "cell_type": "code",
   "execution_count": 10,
   "id": "dfc298f9",
   "metadata": {},
   "outputs": [
    {
     "name": "stdout",
     "output_type": "stream",
     "text": [
      "\n",
      "=== Dataset Summary ===\n",
      "<class 'pandas.core.frame.DataFrame'>\n",
      "RangeIndex: 32581 entries, 0 to 32580\n",
      "Columns: 12 entries, person_age to cb_person_cred_hist_length\n",
      "dtypes: float64(3), int64(5), object(4)\n",
      "\n",
      "Duplicate Count: 165\n",
      "\n",
      "Missing Values:\n",
      "Feature                       Count\n",
      "--------------------------  -------\n",
      "person_age                        0\n",
      "person_income                     0\n",
      "person_home_ownership             0\n",
      "person_emp_length               895\n",
      "loan_intent                       0\n",
      "loan_grade                        0\n",
      "loan_amnt                         0\n",
      "loan_int_rate                  3116\n",
      "loan_status                       0\n",
      "loan_percent_income               0\n",
      "cb_person_default_on_file         0\n",
      "cb_person_cred_hist_length        0\n",
      "\n",
      "Missing Percentages:\n",
      "Feature                     Percentage\n",
      "--------------------------  ------------\n",
      "person_age                  0.00%\n",
      "person_income               0.00%\n",
      "person_home_ownership       0.00%\n",
      "person_emp_length           2.75%\n",
      "loan_intent                 0.00%\n",
      "loan_grade                  0.00%\n",
      "loan_amnt                   0.00%\n",
      "loan_int_rate               9.56%\n",
      "loan_status                 0.00%\n",
      "loan_percent_income         0.00%\n",
      "cb_person_default_on_file   0.00%\n",
      "cb_person_cred_hist_length  0.00%\n",
      "\n",
      "Unique Values:\n",
      "Feature                       Count\n",
      "--------------------------  -------\n",
      "person_age                       58\n",
      "person_income                  4295\n",
      "person_home_ownership             4\n",
      "person_emp_length                36\n",
      "loan_intent                       6\n",
      "loan_grade                        7\n",
      "loan_amnt                       753\n",
      "loan_int_rate                   348\n",
      "loan_status                       2\n",
      "loan_percent_income              77\n",
      "cb_person_default_on_file         2\n",
      "cb_person_cred_hist_length       29\n"
     ]
    }
   ],
   "source": [
    "dataset_summary = eda_desc.get_dataset_summary()\n",
    "DisplayUtils.show_summary_console(dataset_summary)"
   ]
  },
  {
   "cell_type": "markdown",
   "id": "eacc9f3e",
   "metadata": {},
   "source": [
    "- 2.3 Summary of Feature(s) "
   ]
  },
  {
   "cell_type": "code",
   "execution_count": 11,
   "id": "e1aac227",
   "metadata": {},
   "outputs": [],
   "source": [
    "# single_feature_summary = eda_desc.get_feature_summary(\"loan_amnt\")\n",
    "All_features_summary = eda_desc.get_all_feature_summaries()"
   ]
  },
  {
   "cell_type": "markdown",
   "id": "3bd07519",
   "metadata": {},
   "source": [
    "- Display Summary"
   ]
  },
  {
   "cell_type": "code",
   "execution_count": 12,
   "id": "6924db8d",
   "metadata": {},
   "outputs": [
    {
     "name": "stdout",
     "output_type": "stream",
     "text": [
      "\n",
      "=== High-Level Feature Summary ===\n",
      "+---------------------+------------+---------------+-----------------------+-------------------+-------------+------------+--------------+---------------+-------------+---------------------+---------------------------+----------------------------+\n",
      "|      Statistic      | person_age | person_income | person_home_ownership | person_emp_length | loan_intent | loan_grade |  loan_amnt   | loan_int_rate | loan_status | loan_percent_income | cb_person_default_on_file | cb_person_cred_hist_length |\n",
      "+---------------------+------------+---------------+-----------------------+-------------------+-------------+------------+--------------+---------------+-------------+---------------------+---------------------------+----------------------------+\n",
      "|        count        |  32581.00  |   32581.00    |          N/A          |     31686.00      |     N/A     |    N/A     |   32581.00   |   29465.00    |  32581.00   |      32581.00       |            N/A            |          32581.00          |\n",
      "|        mean         |   27.73    |   66074.85    |          N/A          |       4.79        |     N/A     |    N/A     |   9589.37    |     11.01     |    0.22     |        0.17         |            N/A            |            5.80            |\n",
      "|         std         |    6.35    |   61983.12    |          N/A          |       4.14        |     N/A     |    N/A     |   6322.09    |     3.24      |    0.41     |        0.11         |            N/A            |            4.06            |\n",
      "|         min         |   20.00    |    4000.00    |          N/A          |       0.00        |     N/A     |    N/A     |    500.00    |     5.42      |    0.00     |        0.00         |            N/A            |            2.00            |\n",
      "|         25%         |   23.00    |   38500.00    |          N/A          |       2.00        |     N/A     |    N/A     |   5000.00    |     7.90      |    0.00     |        0.09         |            N/A            |            3.00            |\n",
      "|         50%         |   26.00    |   55000.00    |          N/A          |       4.00        |     N/A     |    N/A     |   8000.00    |     10.99     |    0.00     |        0.15         |            N/A            |            4.00            |\n",
      "|         75%         |   30.00    |   79200.00    |          N/A          |       7.00        |     N/A     |    N/A     |   12200.00   |     13.47     |    0.00     |        0.23         |            N/A            |            8.00            |\n",
      "|         max         |   144.00   |  6000000.00   |          N/A          |      123.00       |     N/A     |    N/A     |   35000.00   |     23.22     |    1.00     |        0.83         |            N/A            |           30.00            |\n",
      "|      skewness       |    2.58    |     32.87     |          N/A          |       2.61        |     N/A     |    N/A     |     1.19     |     0.21      |    1.36     |        1.06         |            N/A            |            1.66            |\n",
      "|      kurtosis       |   18.56    |    2693.27    |          N/A          |       43.72       |     N/A     |    N/A     |     1.42     |     -0.67     |    -0.14    |        1.22         |            N/A            |            3.72            |\n",
      "|         5%          |   22.00    |   22880.00    |          N/A          |       0.00        |     N/A     |    N/A     |   2000.00    |     6.03      |    0.00     |        0.04         |            N/A            |            2.00            |\n",
      "|         95%         |   40.00    |   138000.00   |          N/A          |       13.00       |     N/A     |    N/A     |   24000.00   |     16.32     |    1.00     |        0.38         |            N/A            |           14.00            |\n",
      "|   missing_values    |     0      |       0       |           0           |        895        |      0      |     0      |      0       |     3116      |      0      |          0          |             0             |             0              |\n",
      "| missing_percentage  |    0.00    |     0.00      |         0.00          |       2.75        |    0.00     |    0.00    |     0.00     |     9.56      |    0.00     |        0.00         |           0.00            |            0.00            |\n",
      "|   distinct_count    |     58     |     4295      |           4           |        36         |      6      |     7      |     753      |      348      |      2      |         77          |             2             |             29             |\n",
      "| distinct_percentage |    0.18    |     13.18     |          N/A          |       0.11        |     N/A     |    N/A     |     2.31     |     1.07      |    0.01     |        0.24         |            N/A            |            0.09            |\n",
      "|     zero_values     |     0      |       0       |          N/A          |       4105        |     N/A     |    N/A     |      0       |       0       |    25473    |          9          |            N/A            |             0              |\n",
      "|   zero_percentage   |    0.00    |     0.00      |          N/A          |       12.60       |     N/A     |    N/A     |     0.00     |     0.00      |    78.18    |        0.03         |            N/A            |            0.00            |\n",
      "|        range        |   124.00   |  5996000.00   |          N/A          |      123.00       |     N/A     |    N/A     |   34500.00   |     17.80     |    1.00     |        0.83         |            N/A            |           28.00            |\n",
      "|         iqr         |    7.00    |   40700.00    |          N/A          |       5.00        |     N/A     |    N/A     |   7200.00    |     5.57      |    0.00     |        0.14         |            N/A            |            5.00            |\n",
      "|      variance       |   40.30    | 3841907061.81 |          N/A          |       17.16       |     N/A     |    N/A     | 39968779.56  |     10.50     |    0.17     |        0.01         |            N/A            |           16.44            |\n",
      "|         sum         | 903621.00  | 2152784638.00 |          N/A          |     151766.00     |     N/A     |    N/A     | 312431300.00 |   324459.59   |   7108.00   |       5545.40       |            N/A            |         189107.00          |\n",
      "+---------------------+------------+---------------+-----------------------+-------------------+-------------+------------+--------------+---------------+-------------+---------------------+---------------------------+----------------------------+\n"
     ]
    }
   ],
   "source": [
    "# DisplayUtils.print_feature_summary(\"loan_amnt\", single_feature_summary)\n",
    "DisplayUtils.print_high_level_summary(All_features_summary)"
   ]
  },
  {
   "cell_type": "markdown",
   "id": "28026c22",
   "metadata": {},
   "source": [
    "- Save High Level Descriptive Analysis Summary to CSV and Excel\n",
    "\n",
    "This cell formats the high-level feature summaries into a structured DataFrame and saves it as a CSV or Excel file. The formatting is handled by `FormatUtils`, which extracts selected statistics for each feature, and the output is saved using `SaveUtils`."
   ]
  },
  {
   "cell_type": "code",
   "execution_count": 13,
   "id": "b06bfa25",
   "metadata": {},
   "outputs": [],
   "source": [
    "# initializing the `SaveUtils` class\n",
    "save_utils = SaveUtils()"
   ]
  },
  {
   "cell_type": "code",
   "execution_count": 14,
   "id": "90061da2",
   "metadata": {},
   "outputs": [],
   "source": [
    "# Format the summary\n",
    "df_summary = FormatUtils.high_level_summary_to_dataframe(All_features_summary)\n",
    "\n",
    "# Save as a CSV file\n",
    "# save_utils.save_dataframe_to_csv(df_summary, os.path.join(output_path, \"descriptive_summary.csv\"), overwrite=True)\n",
    "\n",
    "# Save as an Excel file\n",
    "# save_utils.save_dataframe_to_excel(df_summary, os.path.join(output_path, \"descriptive_summary.xlsx\"), sheet_name='Descriptive Summary')"
   ]
  },
  {
   "cell_type": "markdown",
   "id": "27ff07f4",
   "metadata": {},
   "source": [
    "- Save Detailed Descriptive Analysis Summary to JSON\n",
    "This cell saves the detailed descriptive analysis summary as a JSON file.  \n",
    "It is intended for use by applications or services that need to consume and display the analysis results."
   ]
  },
  {
   "cell_type": "code",
   "execution_count": 15,
   "id": "bbd44192",
   "metadata": {},
   "outputs": [],
   "source": [
    "# Save as JSON file\n",
    "# save_utils.save_json(All_features_summary, os.path.join(output_path, \"descriptive_summary.json\"), overwrite=True)"
   ]
  },
  {
   "cell_type": "markdown",
   "id": "018aeb0e",
   "metadata": {},
   "source": [
    "### 🔍 2.4 Find the Best-Fit Probability Distribution for Selected Features\n",
    "This cell identifies the best-fit probability distribution for each feature in the given list.\n",
    "- **Method**: Defines the criterion for selecting the best fit. Options are:\n",
    "  - `'sumsquare_error'` *(default)*\n",
    "  - `'aic'`\n",
    "  - `'bic'`\n",
    "\n",
    "- **common_distributions (bool)**:  \n",
    "  - If `True`, only fits a curated list of commonly used distributions:  \n",
    "    `'norm'`, `'expon'`, `'lognorm'`, `'gamma'`, `'beta'`, `'weibull_min'`, `'chi2'`, `'pareto'`, `'uniform'`, `'t'`, `'gumbel_r'`, `'burr'`, `'invgauss'`, `'triang'`, `'laplace'`, `'logistic'`, `'genextreme'`, `'skewnorm'`, `'genpareto'`, `'burr12'`, `'fatiguelife'`, `'geninvgauss'`, `'halfnorm'`, `'exponpow'`\n",
    "\n",
    "  - If `False`, fits from an extended list of over 100 SciPy continuous distributions."
   ]
  },
  {
   "cell_type": "code",
   "execution_count": 16,
   "id": "2fe1ba5d",
   "metadata": {},
   "outputs": [
    {
     "name": "stderr",
     "output_type": "stream",
     "text": [
      "\u001b[32m2025-05-04 08:54:01.082\u001b[0m | \u001b[1mINFO    \u001b[0m | \u001b[36mfitter.fitter\u001b[0m:\u001b[36m_fit_single_distribution\u001b[0m:\u001b[36m337\u001b[0m - \u001b[1mFitted norm distribution with error=0.0)\u001b[0m\n"
     ]
    },
    {
     "name": "stdout",
     "output_type": "stream",
     "text": [
      "\n",
      "=== Analyzing person_income ===\n"
     ]
    },
    {
     "name": "stderr",
     "output_type": "stream",
     "text": [
      "\u001b[32m2025-05-04 08:54:01.090\u001b[0m | \u001b[1mINFO    \u001b[0m | \u001b[36mfitter.fitter\u001b[0m:\u001b[36m_fit_single_distribution\u001b[0m:\u001b[36m337\u001b[0m - \u001b[1mFitted uniform distribution with error=0.0)\u001b[0m\n",
      "\u001b[32m2025-05-04 08:54:01.096\u001b[0m | \u001b[1mINFO    \u001b[0m | \u001b[36mfitter.fitter\u001b[0m:\u001b[36m_fit_single_distribution\u001b[0m:\u001b[36m337\u001b[0m - \u001b[1mFitted expon distribution with error=0.0)\u001b[0m\n",
      "\u001b[32m2025-05-04 08:54:01.110\u001b[0m | \u001b[1mINFO    \u001b[0m | \u001b[36mfitter.fitter\u001b[0m:\u001b[36m_fit_single_distribution\u001b[0m:\u001b[36m337\u001b[0m - \u001b[1mFitted laplace distribution with error=0.0)\u001b[0m\n",
      "\u001b[32m2025-05-04 08:54:01.236\u001b[0m | \u001b[1mINFO    \u001b[0m | \u001b[36mfitter.fitter\u001b[0m:\u001b[36m_fit_single_distribution\u001b[0m:\u001b[36m337\u001b[0m - \u001b[1mFitted logistic distribution with error=0.0)\u001b[0m\n",
      "\u001b[32m2025-05-04 08:54:01.323\u001b[0m | \u001b[1mINFO    \u001b[0m | \u001b[36mfitter.fitter\u001b[0m:\u001b[36m_fit_single_distribution\u001b[0m:\u001b[36m337\u001b[0m - \u001b[1mFitted gumbel_r distribution with error=0.0)\u001b[0m\n",
      "\u001b[32m2025-05-04 08:54:01.442\u001b[0m | \u001b[1mINFO    \u001b[0m | \u001b[36mfitter.fitter\u001b[0m:\u001b[36m_fit_single_distribution\u001b[0m:\u001b[36m337\u001b[0m - \u001b[1mFitted lognorm distribution with error=0.0)\u001b[0m\n",
      "\u001b[32m2025-05-04 08:54:01.540\u001b[0m | \u001b[1mINFO    \u001b[0m | \u001b[36mfitter.fitter\u001b[0m:\u001b[36m_fit_single_distribution\u001b[0m:\u001b[36m337\u001b[0m - \u001b[1mFitted halfnorm distribution with error=0.0)\u001b[0m\n",
      "\u001b[32m2025-05-04 08:54:01.815\u001b[0m | \u001b[1mINFO    \u001b[0m | \u001b[36mfitter.fitter\u001b[0m:\u001b[36m_fit_single_distribution\u001b[0m:\u001b[36m337\u001b[0m - \u001b[1mFitted pareto distribution with error=0.0)\u001b[0m\n",
      "\u001b[32m2025-05-04 08:54:15.409\u001b[0m | \u001b[1mINFO    \u001b[0m | \u001b[36mfitter.fitter\u001b[0m:\u001b[36m_fit_single_distribution\u001b[0m:\u001b[36m337\u001b[0m - \u001b[1mFitted weibull_min distribution with error=0.0)\u001b[0m\n",
      "\u001b[32m2025-05-04 08:54:16.476\u001b[0m | \u001b[1mINFO    \u001b[0m | \u001b[36mfitter.fitter\u001b[0m:\u001b[36m_fit_single_distribution\u001b[0m:\u001b[36m337\u001b[0m - \u001b[1mFitted skewnorm distribution with error=0.0)\u001b[0m\n",
      "\u001b[32m2025-05-04 08:54:18.573\u001b[0m | \u001b[1mINFO    \u001b[0m | \u001b[36mfitter.fitter\u001b[0m:\u001b[36m_fit_single_distribution\u001b[0m:\u001b[36m337\u001b[0m - \u001b[1mFitted gamma distribution with error=0.0)\u001b[0m\n",
      "\u001b[32m2025-05-04 08:54:19.143\u001b[0m | \u001b[1mINFO    \u001b[0m | \u001b[36mfitter.fitter\u001b[0m:\u001b[36m_fit_single_distribution\u001b[0m:\u001b[36m337\u001b[0m - \u001b[1mFitted burr12 distribution with error=0.0)\u001b[0m\n",
      "\u001b[32m2025-05-04 08:54:24.876\u001b[0m | \u001b[1mINFO    \u001b[0m | \u001b[36mfitter.fitter\u001b[0m:\u001b[36m_fit_single_distribution\u001b[0m:\u001b[36m337\u001b[0m - \u001b[1mFitted chi2 distribution with error=0.0)\u001b[0m\n",
      "\u001b[32m2025-05-04 08:54:25.676\u001b[0m | \u001b[1mINFO    \u001b[0m | \u001b[36mfitter.fitter\u001b[0m:\u001b[36m_fit_single_distribution\u001b[0m:\u001b[36m337\u001b[0m - \u001b[1mFitted invgauss distribution with error=0.0)\u001b[0m\n",
      "\u001b[32m2025-05-04 08:54:26.500\u001b[0m | \u001b[1mINFO    \u001b[0m | \u001b[36mfitter.fitter\u001b[0m:\u001b[36m_fit_single_distribution\u001b[0m:\u001b[36m337\u001b[0m - \u001b[1mFitted exponpow distribution with error=0.0)\u001b[0m\n",
      "\u001b[32m2025-05-04 08:54:31.822\u001b[0m | \u001b[1mINFO    \u001b[0m | \u001b[36mfitter.fitter\u001b[0m:\u001b[36m_fit_single_distribution\u001b[0m:\u001b[36m337\u001b[0m - \u001b[1mFitted beta distribution with error=0.0)\u001b[0m\n",
      "\u001b[32m2025-05-04 08:54:32.155\u001b[0m | \u001b[1mINFO    \u001b[0m | \u001b[36mfitter.fitter\u001b[0m:\u001b[36m_fit_single_distribution\u001b[0m:\u001b[36m337\u001b[0m - \u001b[1mFitted genpareto distribution with error=0.0)\u001b[0m\n",
      "\u001b[32m2025-05-04 08:54:33.259\u001b[0m | \u001b[1mINFO    \u001b[0m | \u001b[36mfitter.fitter\u001b[0m:\u001b[36m_fit_single_distribution\u001b[0m:\u001b[36m337\u001b[0m - \u001b[1mFitted geninvgauss distribution with error=0.0)\u001b[0m\n",
      "\u001b[32m2025-05-04 08:54:33.316\u001b[0m | \u001b[1mINFO    \u001b[0m | \u001b[36mfitter.fitter\u001b[0m:\u001b[36m_fit_single_distribution\u001b[0m:\u001b[36m337\u001b[0m - \u001b[1mFitted fatiguelife distribution with error=0.0)\u001b[0m\n",
      "\u001b[32m2025-05-04 08:54:33.584\u001b[0m | \u001b[1mINFO    \u001b[0m | \u001b[36mfitter.fitter\u001b[0m:\u001b[36m_fit_single_distribution\u001b[0m:\u001b[36m337\u001b[0m - \u001b[1mFitted triang distribution with error=0.0)\u001b[0m\n",
      "\u001b[32m2025-05-04 08:54:34.186\u001b[0m | \u001b[1mINFO    \u001b[0m | \u001b[36mfitter.fitter\u001b[0m:\u001b[36m_fit_single_distribution\u001b[0m:\u001b[36m337\u001b[0m - \u001b[1mFitted genextreme distribution with error=0.0)\u001b[0m\n",
      "\u001b[32m2025-05-04 08:54:34.520\u001b[0m | \u001b[1mINFO    \u001b[0m | \u001b[36mfitter.fitter\u001b[0m:\u001b[36m_fit_single_distribution\u001b[0m:\u001b[36m337\u001b[0m - \u001b[1mFitted t distribution with error=0.0)\u001b[0m\n",
      "\u001b[32m2025-05-04 08:54:34.681\u001b[0m | \u001b[1mINFO    \u001b[0m | \u001b[36mfitter.fitter\u001b[0m:\u001b[36m_fit_single_distribution\u001b[0m:\u001b[36m337\u001b[0m - \u001b[1mFitted burr distribution with error=0.0)\u001b[0m\n"
     ]
    },
    {
     "name": "stdout",
     "output_type": "stream",
     "text": [
      "Best-fitting distribution: beta\n",
      "Parameters: {'a': 6.685982730637573, 'b': 2222407.864180796, 'loc': -17535.802976790867, 'scale': 27008157107.345474}\n",
      "\n",
      "=== Distribution Fitting Results ===\n",
      "      Feature Best Distribution                                                                                                Parameters\n",
      "person_income              beta {'a': 6.685982730637573, 'b': 2222407.864180796, 'loc': -17535.802976790867, 'scale': 27008157107.345474}\n"
     ]
    }
   ],
   "source": [
    "# initializing the `StatisticalAnalysis` class\n",
    "eda_stat = StatisticalAnalysis(main_df)\n",
    "\n",
    "# Finding the best-fit probability distribution\n",
    "# distribution_results = eda_stat.fit_best_distribution(numerical_features, method='sumsquare_error', common_distributions=True, timeout=60)\n",
    "distribution_results = eda_stat.fit_best_distribution(['person_income'], method='sumsquare_error', common_distributions=True, timeout=60)"
   ]
  },
  {
   "cell_type": "markdown",
   "id": "55226da8",
   "metadata": {},
   "source": [
    "- Plotting the best-fit distributions for a given feature(s) set"
   ]
  },
  {
   "cell_type": "code",
   "execution_count": 17,
   "id": "3f43850b",
   "metadata": {},
   "outputs": [],
   "source": [
    "# initializing the `Visualisation` class\n",
    "viz = Visualisation(main_df, display_names)\n",
    "\n",
    "# Plotting best-fit distributions\n",
    "# viz.plot_distributions(fitted_distributions = distribution_results,variables=numerical_features)\n",
    "# viz.plot_distributions(fitted_distributions = distribution_results,variables=['person_age', 'loan_amnt'])"
   ]
  },
  {
   "cell_type": "markdown",
   "id": "f06179db",
   "metadata": {},
   "source": [
    "- 📊Plot Histograms for Selected Features\n",
    "This cell visualizes the distribution of selected features using histograms."
   ]
  },
  {
   "cell_type": "code",
   "execution_count": 18,
   "id": "49f150b7",
   "metadata": {},
   "outputs": [],
   "source": [
    "    # viz.plot_histogram(variables=numerical_features, orientation=\"vertical\")\n",
    "# viz.plot_histogram(variables=['loan_amnt'], orientation=\"vertical\")\n",
    "\n",
    "    # viz.plot_histogram(variables=nominal_features, orientation=\"horizontal\")\n",
    "    # viz.plot_histogram(variables=['loan_intent'], orientation=\"horizontal\")\n"
   ]
  },
  {
   "cell_type": "markdown",
   "id": "8026a06a",
   "metadata": {},
   "source": [
    "- 🔵 Scatter Plots for Relationship Analysis\n",
    "This cell provides visualizations to explore relationships between two numerical variables, with optional grouping and trendlines."
   ]
  },
  {
   "cell_type": "code",
   "execution_count": 19,
   "id": "5425e9fa",
   "metadata": {},
   "outputs": [],
   "source": [
    "# Scatter plot with color based on `loan_grade`\n",
    "# viz.plot_scatter(x_var=\"person_income\", y_var=\"person_age\", hue_var=\"loan_status\", trendline=True)\n",
    "# viz.plot_scatter(x_var=\"person_income\", y_var=\"loan_amnt\", hue_var=\"loan_status\", trendline=True)\n",
    "# viz.plot_scatter(x_var=\"loan_int_rate\", y_var=\"loan_amnt\", hue_var=\"loan_status\", trendline=True)\n",
    "# viz.plot_scatter(x_var=\"loan_int_rate\", y_var=\"person_income\", hue_var=\"loan_status\", trendline=True)\n",
    "\n",
    "\n",
    "# Scatter plot with trendline\n",
    "# viz.plot_scatter(x_var=\"person_age\", y_var=\"person_income\", trendline=True)"
   ]
  },
  {
   "cell_type": "markdown",
   "id": "d90f8edd",
   "metadata": {},
   "source": [
    "- 🟩 Box Plots for Distribution Comparison\n",
    "\n",
    "This cell uses box plots to compare the distribution of a numerical variable across categories of another feature."
   ]
  },
  {
   "cell_type": "code",
   "execution_count": 20,
   "id": "9d2c7278",
   "metadata": {},
   "outputs": [],
   "source": [
    "# viz.plot_boxplot(column='person_income', by='loan_intent')\n",
    "# viz.plot_boxplot(column='loan_amnt', by='person_home_ownership')\n",
    "# viz.plot_boxplot(column='loan_int_rate', by='cb_person_default_on_file')\n",
    "# viz.plot_boxplot(column='person_age', by='loan_intent')\n"
   ]
  },
  {
   "cell_type": "markdown",
   "id": "37239b8d",
   "metadata": {},
   "source": [
    "- 📊 Crosstab Analysis\n",
    "This section generates cross-tabulation (contingency) tables to explore the relationship between categorical variables."
   ]
  },
  {
   "cell_type": "code",
   "execution_count": 21,
   "id": "73c922f4",
   "metadata": {},
   "outputs": [],
   "source": [
    "# For two variables\n",
    "crosstab_result_1 = eda_stat.crosstab(\"loan_status\", \"person_home_ownership\", normalize=\"index\")\n",
    "crosstab_result_2 = eda_stat.crosstab(\"loan_status\", \"loan_intent\", normalize=\"index\")\n",
    "crosstab_result_3 = eda_stat.crosstab(\"loan_status\", \"cb_person_default_on_file\", normalize=\"index\")\n",
    "\n",
    "# For three variables\n",
    "crosstab_result_4 = eda_stat.crosstab_three_way(\"loan_status\", \"cb_person_default_on_file\", \"person_home_ownership\")\n"
   ]
  },
  {
   "cell_type": "code",
   "execution_count": 22,
   "id": "bcbb6cf6",
   "metadata": {},
   "outputs": [
    {
     "data": {
      "text/html": [
       "<style type=\"text/css\">\n",
       "</style>\n",
       "<table id=\"T_6599c\">\n",
       "  <thead>\n",
       "    <tr>\n",
       "      <th class=\"index_name level0\" >cb_person_default_on_file</th>\n",
       "      <th id=\"T_6599c_level0_col0\" class=\"col_heading level0 col0\" colspan=\"4\">N</th>\n",
       "      <th id=\"T_6599c_level0_col4\" class=\"col_heading level0 col4\" colspan=\"4\">Y</th>\n",
       "    </tr>\n",
       "    <tr>\n",
       "      <th class=\"index_name level1\" >person_home_ownership</th>\n",
       "      <th id=\"T_6599c_level1_col0\" class=\"col_heading level1 col0\" >MORTGAGE</th>\n",
       "      <th id=\"T_6599c_level1_col1\" class=\"col_heading level1 col1\" >OTHER</th>\n",
       "      <th id=\"T_6599c_level1_col2\" class=\"col_heading level1 col2\" >OWN</th>\n",
       "      <th id=\"T_6599c_level1_col3\" class=\"col_heading level1 col3\" >RENT</th>\n",
       "      <th id=\"T_6599c_level1_col4\" class=\"col_heading level1 col4\" >MORTGAGE</th>\n",
       "      <th id=\"T_6599c_level1_col5\" class=\"col_heading level1 col5\" >OTHER</th>\n",
       "      <th id=\"T_6599c_level1_col6\" class=\"col_heading level1 col6\" >OWN</th>\n",
       "      <th id=\"T_6599c_level1_col7\" class=\"col_heading level1 col7\" >RENT</th>\n",
       "    </tr>\n",
       "    <tr>\n",
       "      <th class=\"index_name level0\" >loan_status</th>\n",
       "      <th class=\"blank col0\" >&nbsp;</th>\n",
       "      <th class=\"blank col1\" >&nbsp;</th>\n",
       "      <th class=\"blank col2\" >&nbsp;</th>\n",
       "      <th class=\"blank col3\" >&nbsp;</th>\n",
       "      <th class=\"blank col4\" >&nbsp;</th>\n",
       "      <th class=\"blank col5\" >&nbsp;</th>\n",
       "      <th class=\"blank col6\" >&nbsp;</th>\n",
       "      <th class=\"blank col7\" >&nbsp;</th>\n",
       "    </tr>\n",
       "  </thead>\n",
       "  <tbody>\n",
       "    <tr>\n",
       "      <th id=\"T_6599c_level0_row0\" class=\"row_heading level0 row0\" >0</th>\n",
       "      <td id=\"T_6599c_row0_col0\" class=\"data row0 col0\" >90%</td>\n",
       "      <td id=\"T_6599c_row0_col1\" class=\"data row0 col1\" >78%</td>\n",
       "      <td id=\"T_6599c_row0_col2\" class=\"data row0 col2\" >93%</td>\n",
       "      <td id=\"T_6599c_row0_col3\" class=\"data row0 col3\" >72%</td>\n",
       "      <td id=\"T_6599c_row0_col4\" class=\"data row0 col4\" >71%</td>\n",
       "      <td id=\"T_6599c_row0_col5\" class=\"data row0 col5\" >45%</td>\n",
       "      <td id=\"T_6599c_row0_col6\" class=\"data row0 col6\" >89%</td>\n",
       "      <td id=\"T_6599c_row0_col7\" class=\"data row0 col7\" >53%</td>\n",
       "    </tr>\n",
       "    <tr>\n",
       "      <th id=\"T_6599c_level0_row1\" class=\"row_heading level0 row1\" >1</th>\n",
       "      <td id=\"T_6599c_row1_col0\" class=\"data row1 col0\" >10%</td>\n",
       "      <td id=\"T_6599c_row1_col1\" class=\"data row1 col1\" >22%</td>\n",
       "      <td id=\"T_6599c_row1_col2\" class=\"data row1 col2\" >7%</td>\n",
       "      <td id=\"T_6599c_row1_col3\" class=\"data row1 col3\" >28%</td>\n",
       "      <td id=\"T_6599c_row1_col4\" class=\"data row1 col4\" >29%</td>\n",
       "      <td id=\"T_6599c_row1_col5\" class=\"data row1 col5\" >55%</td>\n",
       "      <td id=\"T_6599c_row1_col6\" class=\"data row1 col6\" >11%</td>\n",
       "      <td id=\"T_6599c_row1_col7\" class=\"data row1 col7\" >47%</td>\n",
       "    </tr>\n",
       "  </tbody>\n",
       "</table>\n"
      ],
      "text/plain": [
       "<pandas.io.formats.style.Styler at 0x24763acd590>"
      ]
     },
     "execution_count": 22,
     "metadata": {},
     "output_type": "execute_result"
    }
   ],
   "source": [
    "# Display\n",
    "# crosstab_result_1\n",
    "# crosstab_result_2\n",
    "# crosstab_result_3\n",
    "crosstab_result_4"
   ]
  },
  {
   "cell_type": "markdown",
   "id": "42337ed6",
   "metadata": {},
   "source": [
    "## Step 3: Data Preprocessing\n",
    "\n",
    "- 3.1 Missing Value Handling  \n",
    "- 3.2 Outlier Handling\n"
   ]
  },
  {
   "cell_type": "markdown",
   "id": "6baa69e0",
   "metadata": {},
   "source": [
    "#### 🧼 3.1 Missing Value Handling Pipeline\n",
    "\n",
    "This pipeline addresses missing data in a modular and strategy-driven manner. It includes detection, filtering, and imputation using configurable rules per feature.\n",
    "\n",
    "---\n",
    "\n",
    "##### 🔍 Identify and Remove Features with Excessive Missingness\n",
    "\n",
    "A threshold (e.g., 30%) is used to detect features with too many missing values. These features are removed from the dataset to prevent model instability, unreliable imputations, or learning bias.\n",
    "\n",
    "---\n",
    "\n",
    "##### 🛠️ Impute Remaining Missing Values with Defined Strategies\n",
    "\n",
    "For the remaining features, missing values are imputed according to user-specified strategies. Each feature can have a tailored strategy from the options below:\n",
    "\n",
    "- `\"drop\"`: Remove rows with missing values in this feature.\n",
    "- `\"fill_mean\"`: Fill with the mean (numeric features only).\n",
    "- `\"fill_median\"`: Fill with the median (numeric features only).\n",
    "- `\"fill_mode\"`: Fill with the most frequent value.\n",
    "- `\"fill_value\"`: Fill using a custom value (requires `fill_values`).\n",
    "- `\"ffill\"`: Forward fill (carry last valid value forward).\n",
    "- `\"bfill\"`: Backward fill (use next valid value).\n",
    "- `\"fill_interpolate\"`: Linearly interpolate between valid values.\n",
    "- `\"none\"` or `\"keep\"`: Retain missing values (no action taken).\n",
    "\n",
    "The missing value handler processes these strategies on a per-feature basis and returns:\n",
    "\n",
    "- **`imputed_records`**: A subset of rows where imputation occurred, with an `affected_features` column.\n",
    "- **`imputed_dataset`**: The complete dataset after imputation and/or row removal.\n"
   ]
  },
  {
   "cell_type": "code",
   "execution_count": 23,
   "id": "1b1fc4ba",
   "metadata": {},
   "outputs": [
    {
     "name": "stdout",
     "output_type": "stream",
     "text": [
      "Features with high missing values:  []\n",
      "Total number of records removed: 3116\n",
      "Total number of records imputed: 827\n"
     ]
    }
   ],
   "source": [
    "# Step 1: Initialize handler and identify features with high missing rates\n",
    "dp = MissingValueHandler(main_df)\n",
    "features_with_high_missing = dp.features_with_many_missing(threshold=0.3)\n",
    "print(\"Features with high missing values: \", features_with_high_missing)\n",
    "\n",
    "# Step 2: Drop high-missing features and update the working dataset\n",
    "fs = FeatureSelector(main_df)\n",
    "updated_df = fs.drop_features(features_with_high_missing)\n",
    "\n",
    "# Step 3: Reinitialize missing value handler with cleaned dataset\n",
    "dp = MissingValueHandler(updated_df)\n",
    "\n",
    "# Step 4: Filter feature lists and strategies to match updated dataset\n",
    "all_features = [f for f in all_features if f not in features_with_high_missing]\n",
    "strategies = {k: v for k, v in missing_value_strategies.items() if k in all_features}\n",
    "fill_values = {k: v for k, v in missing_fill_values.items() if k in all_features}\n",
    "\n",
    "# Step 5: Apply missing value imputation strategies\n",
    "imputed_records, imputed_dataset = dp.handle(\n",
    "    all_features, strategies=strategies, fill_values=fill_values)"
   ]
  },
  {
   "cell_type": "markdown",
   "id": "384ee793",
   "metadata": {},
   "source": [
    "#### 📉 3.2 Outlier Detection and Handling\n",
    "This stage identifies and flags outliers in numerical features using a variety of statistical and machine learning methods.\n",
    "Available techniques include:\n",
    "- IQR-based detection\n",
    "- Z-score filtering\n",
    "- Isolation Forest\n",
    "- Local Outlier Factor (LOF)\n",
    "- Distribution fitting (e.g., lognorm, gamma)\n",
    "- Custom user-defined bounds\n",
    "\n",
    "Once detection strategies are tested and validated, a unified pipeline is executed using detect_outliers_featurewise(), which applies the appropriate detection method per feature based on predefined configuration.\n",
    "Then, outliers will be treated based on defined imputation methods, such as replacing with mean, median, mode, or using a custom value."
   ]
  },
  {
   "cell_type": "markdown",
   "id": "e25d7088",
   "metadata": {},
   "source": [
    "##### 3.2.1 Testing Strategies"
   ]
  },
  {
   "cell_type": "code",
   "execution_count": 24,
   "id": "2afd1d99",
   "metadata": {},
   "outputs": [
    {
     "name": "stdout",
     "output_type": "stream",
     "text": [
      "Total number of IQR-based outliers found: 1352\n"
     ]
    }
   ],
   "source": [
    "outliers = OutlierDetector(imputed_dataset)\n",
    "# outlier_df = outliers.detect_outliers_distribution(distribution_results,confidence_interval=0.999)\n",
    "outlier_df = outliers.detect_outliers_iqr(['person_income'])\n",
    "# outlier_df = outliers.detect_outliers_isolation_forest(['person_income'])\n",
    "# outlier_df = outliers.detect_outliers_lof(['person_income'])\n",
    "# outlier_df = outliers.detect_outliers_zscore(['person_income'])\n",
    "# outlier_df = outliers.detect_custom_outliers(['person_age'],upper_bounds={'person_age': 100})\n",
    "# print(outlier_df) \n"
   ]
  },
  {
   "cell_type": "markdown",
   "id": "9f21d93a",
   "metadata": {},
   "source": [
    "##### 3.2.2 Executing a unified pipeline to identify outliers "
   ]
  },
  {
   "cell_type": "code",
   "execution_count": 25,
   "id": "c4bf6a39",
   "metadata": {},
   "outputs": [
    {
     "name": "stdout",
     "output_type": "stream",
     "text": [
      "Total number of Custom-based outliers found: 5\n",
      "Unknown method 'nan' for feature 'person_income'\n",
      "Unknown method 'nan' for feature 'person_home_ownership'\n",
      "Total number of Custom-based outliers found: 2\n",
      "Unknown method 'nan' for feature 'loan_intent'\n",
      "Unknown method 'nan' for feature 'loan_grade'\n",
      "Unknown method 'nan' for feature 'loan_amnt'\n",
      "Unknown method 'nan' for feature 'loan_int_rate'\n",
      "Unknown method 'nan' for feature 'loan_status'\n",
      "Unknown method 'nan' for feature 'loan_percent_income'\n",
      "Unknown method 'nan' for feature 'cb_person_default_on_file'\n",
      "Unknown method 'nan' for feature 'cb_person_cred_hist_length'\n",
      "Total combined outliers found across all methods: 7\n"
     ]
    }
   ],
   "source": [
    "outliers = OutlierDetector(imputed_dataset)\n",
    "outlier_df = outliers.detect_outliers_featurewise(\n",
    "    method_config=outlier_config_bundle,\n",
    "    distribution_results=distribution_results\n",
    ")\n",
    "# print(outlier_df)"
   ]
  },
  {
   "cell_type": "markdown",
   "id": "2735a333",
   "metadata": {},
   "source": [
    "##### 3.2.3 Executing imputation methods"
   ]
  },
  {
   "cell_type": "markdown",
   "id": "f905be4c",
   "metadata": {},
   "source": [
    "Removes rows where the proportion of outlier features exceeds the threshold."
   ]
  },
  {
   "cell_type": "code",
   "execution_count": 26,
   "id": "5101002d",
   "metadata": {},
   "outputs": [
    {
     "name": "stdout",
     "output_type": "stream",
     "text": [
      "🧹 Removed 0 rows with > 50% outlier features.\n"
     ]
    }
   ],
   "source": [
    "handler = OutlierHandler(imputed_dataset)\n",
    "row_wise_filtered_df = handler.filter_outlier_heavy_rows(outliers_df=outlier_df,threshold=0.5)"
   ]
  },
  {
   "cell_type": "markdown",
   "id": "6dccece6",
   "metadata": {},
   "source": [
    "Apply imputation method per feature's outliers"
   ]
  },
  {
   "cell_type": "code",
   "execution_count": 27,
   "id": "151d5029",
   "metadata": {},
   "outputs": [
    {
     "name": "stdout",
     "output_type": "stream",
     "text": [
      "Keeping outliers for feature: person_income\n",
      "Keeping outliers for feature: person_home_ownership\n",
      "Keeping outliers for feature: loan_intent\n",
      "Keeping outliers for feature: loan_grade\n",
      "Keeping outliers for feature: loan_amnt\n",
      "Keeping outliers for feature: loan_int_rate\n",
      "Keeping outliers for feature: loan_status\n",
      "Keeping outliers for feature: loan_percent_income\n",
      "Keeping outliers for feature: cb_person_default_on_file\n",
      "Keeping outliers for feature: cb_person_cred_hist_length\n",
      "Total number of records removed: 0\n",
      "Total number of records handled (imputed or altered): 7\n"
     ]
    }
   ],
   "source": [
    "handler = OutlierHandler(row_wise_filtered_df)\n",
    "handled_records, cleaned_df = handler.handle_from_config(\n",
    "    outlier_config_bundle=outlier_config_bundle,\n",
    "    outliers_df=outlier_df\n",
    ")\n",
    "# print(handled_records)\n"
   ]
  },
  {
   "cell_type": "markdown",
   "id": "61a1e832",
   "metadata": {},
   "source": [
    "## Step 4: Full Exploratory Data Analysis (EDA)\n",
    "- Analyse feature correlations, multicollinearity, and interactions.\n",
    "- Use dimensionality-reduction techniques (e.g., PCA) or clustering to explore structure.\n",
    "- Assess relationships between features and the target variable (Default).\n"
   ]
  },
  {
   "cell_type": "markdown",
   "id": "3486efdd",
   "metadata": {},
   "source": [
    "#### 🔗 3.1 Examine Variable Correlations\n",
    "\n",
    "This section calculates and displays correlations between different types of variables in the cleaned (`cleaned_df`) dataset.\n",
    "\n",
    "- **`num_method` (str)**: Defines the method for calculating correlation between numerical variables. Allowed values are:\n",
    "    - `'pearson'` *(default)*: Standard Pearson linear correlation coefficient.\n",
    "    - `'spearman'`: Spearman's rank correlation coefficient (for monotonic relationships).\n",
    "    - `'kendall'`: Kendall's tau correlation coefficient (for ordinal or non-normally distributed data).\n",
    "\n",
    "- **`cat_method` (str)**: Defines the method for calculating association between categorical variables. Allowed values are:\n",
    "    - `'cramers_v'` *(default)*: Cramer's V (measures association between nominal categorical variables).\n",
    "    - `'mutual_info'`: Mutual Information (measures the statistical dependence between two random variables).\n",
    "\n",
    "- **`cat_num_method` (str)**: Defines the method for calculating association between \n",
    "    categorical and numerical variables. Allowed values are:\n",
    "    - `'correlation_ratio'` *(default)*: Correlation Ratio (Eta squared, measures variance explained).\n",
    "    - `'f_test'`: F-statistic from ANOVA (assesses the difference in means across categories).\n",
    "    - `'mutual_info'`: Mutual Information (measures the statistical dependence).\n",
    "    - `'kruskal'`: Non-parametric alternative to ANOVA. Compares distributions of a continuous variable across categories. Good when your numerical variables are not normally distributed\n",
    "    - `'target_spearman'`: Replaces each category with the mean of the target variable (e.g. default rate). Then computes correlation with numerical features. Captures ordinal structure or monotonic trends across groups"
   ]
  },
  {
   "cell_type": "code",
   "execution_count": 31,
   "id": "4d951ae4",
   "metadata": {},
   "outputs": [
    {
     "data": {
      "image/png": "[encoded data removed]",
      "text/plain": [
       "<Figure size 800x800 with 2 Axes>"
      ]
     },
     "metadata": {},
     "output_type": "display_data"
    }
   ],
   "source": [
    "analyzer = CorrelationAnalyzer(imputed_dataset)\n",
    "corr_df,corr_matrix = analyzer.correlation_matrix(num_method=\"spearman\", cat_method=\"cramers_v\",\n",
    "                                      cat_num_method=\"mutual_info\",return_matrix=True)\n",
    "\n",
    "Visualisation.plot_heatmap_matrix(corr_matrix, title=\"Correlation Matrix\")"
   ]
  }
 ],
 "metadata": {
  "kernelspec": {
   "display_name": "Python 3",
   "language": "python",
   "name": "python3"
  },
  "language_info": {
   "codemirror_mode": {
    "name": "ipython",
    "version": 3
   },
   "file_extension": ".py",
   "mimetype": "text/x-python",
   "name": "python",
   "nbconvert_exporter": "python",
   "pygments_lexer": "ipython3",
   "version": "3.11.3"
  }
 },
 "nbformat": 4,
 "nbformat_minor": 5
}
