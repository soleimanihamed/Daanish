{
 "cells": [
  {
   "cell_type": "code",
   "execution_count": 33,
   "id": "944a2d92",
   "metadata": {},
   "outputs": [],
   "source": [
    "import os\n",
    "from utils.core.config import initialize_daanish, load_project_config\n",
    "from utils.data_io import load_data\n",
    "from utils.core.feature_manager import FeatureManager\n",
    "from utils.eda.descriptive import DescriptiveAnalysis\n",
    "from utils.viz.display import DisplayUtils\n",
    "from utils.core.save_manager import SaveUtils\n",
    "from utils.core.format_utils import FormatUtils"
   ]
  },
  {
   "cell_type": "markdown",
   "id": "6ba7f734",
   "metadata": {},
   "source": [
    "#### Step 1: Project Initialization and Data Loading \n",
    "In this step, we:\n",
    "- Initialize the Daanish core setup\n",
    "- Access global and project-specific configuration values\n",
    "- Construct input and output paths based on project settings\n",
    "- Load the main dataset for modeling\n",
    "- Load the list of model features along with their attributes"
   ]
  },
  {
   "cell_type": "markdown",
   "id": "80a4f423",
   "metadata": {},
   "source": [
    "- Initialize the Daanish core setup"
   ]
  },
  {
   "cell_type": "code",
   "execution_count": 34,
   "id": "6f66fa0d",
   "metadata": {},
   "outputs": [
    {
     "name": "stdout",
     "output_type": "stream",
     "text": [
      "Daanish core setup complete.\n"
     ]
    }
   ],
   "source": [
    "global_config = initialize_daanish()\n"
   ]
  },
  {
   "cell_type": "markdown",
   "id": "c25eef0a",
   "metadata": {},
   "source": [
    "- Access global and project-specific configuration values"
   ]
  },
  {
   "cell_type": "code",
   "execution_count": 35,
   "id": "d44e0409",
   "metadata": {},
   "outputs": [
    {
     "name": "stderr",
     "output_type": "stream",
     "text": [
      "INFO:utils.core.config:Loading project configuration from c:\\Data Science Projects\\Daanish\\projects\\probability_of_default\\project_config.ini\n",
      "INFO:utils.core.config:Project configuration loaded successfully\n"
     ]
    }
   ],
   "source": [
    "\n",
    "project_root = os.getcwd()\n",
    "project_config = load_project_config(project_root)\n",
    "\n",
    "input_data_folder = project_config.get('paths', 'input_data_folder')\n",
    "output_data_folder = project_config.get('paths', 'output_data_folder')\n",
    "main_dataset = project_config.get('input_files', 'main_dataset')\n",
    "model_features = project_config.get('input_files', 'features_attributes')\n",
    "source_type = project_config.get('datasource_type', 'source_type')\n",
    "excel_sheet_name = project_config.get('datasource_type', 'excel_sheet_name')\n",
    "main_dataset_query = project_config.get('db_queries', 'main_dataset_query')\n",
    "model_features_query = project_config.get('db_queries', 'model_features_query')"
   ]
  },
  {
   "cell_type": "markdown",
   "id": "9d8ede6a",
   "metadata": {},
   "source": [
    "- Construct input and output paths based on project settings"
   ]
  },
  {
   "cell_type": "code",
   "execution_count": 36,
   "id": "6a2531fd",
   "metadata": {},
   "outputs": [],
   "source": [
    "\n",
    "input_path = os.path.join(project_root, input_data_folder)\n",
    "output_path = os.path.join(project_root, output_data_folder)"
   ]
  },
  {
   "cell_type": "markdown",
   "id": "0678bdf3",
   "metadata": {},
   "source": [
    "- Load the main dataset for modeling"
   ]
  },
  {
   "cell_type": "code",
   "execution_count": 37,
   "id": "5122cd91",
   "metadata": {},
   "outputs": [
    {
     "name": "stdout",
     "output_type": "stream",
     "text": [
      "Connected to SQL Server.\n",
      "Connection closed.\n"
     ]
    },
    {
     "name": "stderr",
     "output_type": "stream",
     "text": [
      "C:\\Data Science Projects\\Daanish\\utils\\data_io\\reader.py:43: UserWarning: pandas only supports SQLAlchemy connectable (engine/connection) or database string URI or sqlite3 DBAPI2 connection. Other DBAPI2 objects are not tested. Please consider using SQLAlchemy.\n",
      "  return pd.read_sql(query, connection)\n"
     ]
    }
   ],
   "source": [
    "main_df = load_data(\n",
    "    source_type=source_type,\n",
    "    input_path=os.path.join(input_path, main_dataset),\n",
    "    query=main_dataset_query,\n",
    "    global_config=global_config\n",
    ")"
   ]
  },
  {
   "cell_type": "markdown",
   "id": "8665cc68",
   "metadata": {},
   "source": [
    "- Load the list of model features along with their attributes"
   ]
  },
  {
   "cell_type": "code",
   "execution_count": 38,
   "id": "1521de89",
   "metadata": {},
   "outputs": [
    {
     "name": "stdout",
     "output_type": "stream",
     "text": [
      "Connected to SQL Server.\n",
      "Connection closed.\n"
     ]
    }
   ],
   "source": [
    "feature_manager = FeatureManager(\n",
    "    source_type=source_type,\n",
    "    input_path=os.path.join(input_path, model_features),\n",
    "    global_config=global_config,\n",
    "    query=model_features_query\n",
    ")\n",
    "\n",
    "nominal_features = feature_manager.get_nominal_features()\n",
    "ordinal_features = feature_manager.get_ordinal_features()\n",
    "numerical_features = feature_manager.get_numerical_features()\n",
    "target_variable = feature_manager.get_target_variable()\n",
    "all_features = feature_manager.get_all_features()\n",
    "missing_value_strategies = feature_manager.get_missing_value_strategies()\n",
    "missing_fill_values = feature_manager.get_missing_fill_values()\n",
    "display_names = feature_manager.get_display_names()\n",
    "\n",
    "# print(\"Nominal Features:\", nominal_features)\n",
    "# print(\"Ordinal Features:\", ordinal_features)\n",
    "# print(\"Numerical Features:\", numerical_features)\n",
    "# print(\"Target Variable:\", target_variable)\n",
    "# print(\"All Features:\", all_features)\n",
    "# print(\"Missing Value Strategies:\", missing_value_strategies)\n",
    "# print(\"Missing Fill Values:\", missing_fill_values)\n",
    "# print(\"Display Names:\", display_names)"
   ]
  },
  {
   "cell_type": "markdown",
   "id": "6ba1ccff",
   "metadata": {},
   "source": [
    "#### Step 2: Preliminary Exploratory Data Analysis (EDA)\n",
    "\n",
    "In this step, we explore the raw dataset to understand its structure, identify potential issues (e.g., missing values, outliers, inconsistent types), and gain initial insights into data distributions. This provides the foundation for informed preprocessing and feature engineering decisions later."
   ]
  },
  {
   "cell_type": "markdown",
   "id": "d0070d4d",
   "metadata": {},
   "source": [
    "- initializing the `DescriptiveAnalysis` class with our main dataset"
   ]
  },
  {
   "cell_type": "code",
   "execution_count": 39,
   "id": "5360cc04",
   "metadata": {},
   "outputs": [],
   "source": [
    "eda_desc = DescriptiveAnalysis(main_df)"
   ]
  },
  {
   "cell_type": "markdown",
   "id": "e0ac0311",
   "metadata": {},
   "source": [
    "- Print summaries of data samples"
   ]
  },
  {
   "cell_type": "code",
   "execution_count": 40,
   "id": "75d8d018",
   "metadata": {},
   "outputs": [
    {
     "data": {
      "text/html": [
       "<style type=\"text/css\">\n",
       "#T_4bfde th {\n",
       "  background-color: #f2f2f2;\n",
       "  color: black;\n",
       "  font-weight: bold;\n",
       "}\n",
       "#T_4bfde_row0_col0, #T_4bfde_row0_col1, #T_4bfde_row0_col2, #T_4bfde_row0_col3, #T_4bfde_row0_col4, #T_4bfde_row0_col5, #T_4bfde_row0_col6, #T_4bfde_row0_col7, #T_4bfde_row0_col8, #T_4bfde_row0_col9, #T_4bfde_row0_col10, #T_4bfde_row0_col11, #T_4bfde_row1_col0, #T_4bfde_row1_col1, #T_4bfde_row1_col2, #T_4bfde_row1_col3, #T_4bfde_row1_col4, #T_4bfde_row1_col5, #T_4bfde_row1_col6, #T_4bfde_row1_col7, #T_4bfde_row1_col8, #T_4bfde_row1_col9, #T_4bfde_row1_col10, #T_4bfde_row1_col11, #T_4bfde_row2_col0, #T_4bfde_row2_col1, #T_4bfde_row2_col2, #T_4bfde_row2_col3, #T_4bfde_row2_col4, #T_4bfde_row2_col5, #T_4bfde_row2_col6, #T_4bfde_row2_col7, #T_4bfde_row2_col8, #T_4bfde_row2_col9, #T_4bfde_row2_col10, #T_4bfde_row2_col11, #T_4bfde_row3_col0, #T_4bfde_row3_col1, #T_4bfde_row3_col2, #T_4bfde_row3_col3, #T_4bfde_row3_col4, #T_4bfde_row3_col5, #T_4bfde_row3_col6, #T_4bfde_row3_col7, #T_4bfde_row3_col8, #T_4bfde_row3_col9, #T_4bfde_row3_col10, #T_4bfde_row3_col11, #T_4bfde_row4_col0, #T_4bfde_row4_col1, #T_4bfde_row4_col2, #T_4bfde_row4_col3, #T_4bfde_row4_col4, #T_4bfde_row4_col5, #T_4bfde_row4_col6, #T_4bfde_row4_col7, #T_4bfde_row4_col8, #T_4bfde_row4_col9, #T_4bfde_row4_col10, #T_4bfde_row4_col11 {\n",
       "  text-align: center;\n",
       "}\n",
       "</style>\n",
       "<table id=\"T_4bfde\">\n",
       "  <thead>\n",
       "    <tr>\n",
       "      <th class=\"blank level0\" >&nbsp;</th>\n",
       "      <th id=\"T_4bfde_level0_col0\" class=\"col_heading level0 col0\" >person_age</th>\n",
       "      <th id=\"T_4bfde_level0_col1\" class=\"col_heading level0 col1\" >person_income</th>\n",
       "      <th id=\"T_4bfde_level0_col2\" class=\"col_heading level0 col2\" >person_home_ownership</th>\n",
       "      <th id=\"T_4bfde_level0_col3\" class=\"col_heading level0 col3\" >person_emp_length</th>\n",
       "      <th id=\"T_4bfde_level0_col4\" class=\"col_heading level0 col4\" >loan_intent</th>\n",
       "      <th id=\"T_4bfde_level0_col5\" class=\"col_heading level0 col5\" >loan_grade</th>\n",
       "      <th id=\"T_4bfde_level0_col6\" class=\"col_heading level0 col6\" >loan_amnt</th>\n",
       "      <th id=\"T_4bfde_level0_col7\" class=\"col_heading level0 col7\" >loan_int_rate</th>\n",
       "      <th id=\"T_4bfde_level0_col8\" class=\"col_heading level0 col8\" >loan_status</th>\n",
       "      <th id=\"T_4bfde_level0_col9\" class=\"col_heading level0 col9\" >loan_percent_income</th>\n",
       "      <th id=\"T_4bfde_level0_col10\" class=\"col_heading level0 col10\" >cb_person_default_on_file</th>\n",
       "      <th id=\"T_4bfde_level0_col11\" class=\"col_heading level0 col11\" >cb_person_cred_hist_length</th>\n",
       "    </tr>\n",
       "  </thead>\n",
       "  <tbody>\n",
       "    <tr>\n",
       "      <th id=\"T_4bfde_level0_row0\" class=\"row_heading level0 row0\" >23195</th>\n",
       "      <td id=\"T_4bfde_row0_col0\" class=\"data row0 col0\" >29</td>\n",
       "      <td id=\"T_4bfde_row0_col1\" class=\"data row0 col1\" >16800</td>\n",
       "      <td id=\"T_4bfde_row0_col2\" class=\"data row0 col2\" >RENT</td>\n",
       "      <td id=\"T_4bfde_row0_col3\" class=\"data row0 col3\" >4.000000</td>\n",
       "      <td id=\"T_4bfde_row0_col4\" class=\"data row0 col4\" >HOMEIMPROVEMENT</td>\n",
       "      <td id=\"T_4bfde_row0_col5\" class=\"data row0 col5\" >A</td>\n",
       "      <td id=\"T_4bfde_row0_col6\" class=\"data row0 col6\" >5000</td>\n",
       "      <td id=\"T_4bfde_row0_col7\" class=\"data row0 col7\" >6.920000</td>\n",
       "      <td id=\"T_4bfde_row0_col8\" class=\"data row0 col8\" >True</td>\n",
       "      <td id=\"T_4bfde_row0_col9\" class=\"data row0 col9\" >0.300000</td>\n",
       "      <td id=\"T_4bfde_row0_col10\" class=\"data row0 col10\" >False</td>\n",
       "      <td id=\"T_4bfde_row0_col11\" class=\"data row0 col11\" >10</td>\n",
       "    </tr>\n",
       "    <tr>\n",
       "      <th id=\"T_4bfde_level0_row1\" class=\"row_heading level0 row1\" >6876</th>\n",
       "      <td id=\"T_4bfde_row1_col0\" class=\"data row1 col0\" >21</td>\n",
       "      <td id=\"T_4bfde_row1_col1\" class=\"data row1 col1\" >44000</td>\n",
       "      <td id=\"T_4bfde_row1_col2\" class=\"data row1 col2\" >MORTGAGE</td>\n",
       "      <td id=\"T_4bfde_row1_col3\" class=\"data row1 col3\" >5.000000</td>\n",
       "      <td id=\"T_4bfde_row1_col4\" class=\"data row1 col4\" >MEDICAL</td>\n",
       "      <td id=\"T_4bfde_row1_col5\" class=\"data row1 col5\" >D</td>\n",
       "      <td id=\"T_4bfde_row1_col6\" class=\"data row1 col6\" >6000</td>\n",
       "      <td id=\"T_4bfde_row1_col7\" class=\"data row1 col7\" >12.610000</td>\n",
       "      <td id=\"T_4bfde_row1_col8\" class=\"data row1 col8\" >True</td>\n",
       "      <td id=\"T_4bfde_row1_col9\" class=\"data row1 col9\" >0.140000</td>\n",
       "      <td id=\"T_4bfde_row1_col10\" class=\"data row1 col10\" >False</td>\n",
       "      <td id=\"T_4bfde_row1_col11\" class=\"data row1 col11\" >3</td>\n",
       "    </tr>\n",
       "    <tr>\n",
       "      <th id=\"T_4bfde_level0_row2\" class=\"row_heading level0 row2\" >11801</th>\n",
       "      <td id=\"T_4bfde_row2_col0\" class=\"data row2 col0\" >26</td>\n",
       "      <td id=\"T_4bfde_row2_col1\" class=\"data row2 col1\" >76000</td>\n",
       "      <td id=\"T_4bfde_row2_col2\" class=\"data row2 col2\" >MORTGAGE</td>\n",
       "      <td id=\"T_4bfde_row2_col3\" class=\"data row2 col3\" >10.000000</td>\n",
       "      <td id=\"T_4bfde_row2_col4\" class=\"data row2 col4\" >HOMEIMPROVEMENT</td>\n",
       "      <td id=\"T_4bfde_row2_col5\" class=\"data row2 col5\" >A</td>\n",
       "      <td id=\"T_4bfde_row2_col6\" class=\"data row2 col6\" >5425</td>\n",
       "      <td id=\"T_4bfde_row2_col7\" class=\"data row2 col7\" >8.490000</td>\n",
       "      <td id=\"T_4bfde_row2_col8\" class=\"data row2 col8\" >False</td>\n",
       "      <td id=\"T_4bfde_row2_col9\" class=\"data row2 col9\" >0.070000</td>\n",
       "      <td id=\"T_4bfde_row2_col10\" class=\"data row2 col10\" >False</td>\n",
       "      <td id=\"T_4bfde_row2_col11\" class=\"data row2 col11\" >3</td>\n",
       "    </tr>\n",
       "    <tr>\n",
       "      <th id=\"T_4bfde_level0_row3\" class=\"row_heading level0 row3\" >4859</th>\n",
       "      <td id=\"T_4bfde_row3_col0\" class=\"data row3 col0\" >23</td>\n",
       "      <td id=\"T_4bfde_row3_col1\" class=\"data row3 col1\" >36100</td>\n",
       "      <td id=\"T_4bfde_row3_col2\" class=\"data row3 col2\" >RENT</td>\n",
       "      <td id=\"T_4bfde_row3_col3\" class=\"data row3 col3\" >2.000000</td>\n",
       "      <td id=\"T_4bfde_row3_col4\" class=\"data row3 col4\" >EDUCATION</td>\n",
       "      <td id=\"T_4bfde_row3_col5\" class=\"data row3 col5\" >A</td>\n",
       "      <td id=\"T_4bfde_row3_col6\" class=\"data row3 col6\" >5000</td>\n",
       "      <td id=\"T_4bfde_row3_col7\" class=\"data row3 col7\" >7.490000</td>\n",
       "      <td id=\"T_4bfde_row3_col8\" class=\"data row3 col8\" >False</td>\n",
       "      <td id=\"T_4bfde_row3_col9\" class=\"data row3 col9\" >0.140000</td>\n",
       "      <td id=\"T_4bfde_row3_col10\" class=\"data row3 col10\" >False</td>\n",
       "      <td id=\"T_4bfde_row3_col11\" class=\"data row3 col11\" >4</td>\n",
       "    </tr>\n",
       "    <tr>\n",
       "      <th id=\"T_4bfde_level0_row4\" class=\"row_heading level0 row4\" >22696</th>\n",
       "      <td id=\"T_4bfde_row4_col0\" class=\"data row4 col0\" >28</td>\n",
       "      <td id=\"T_4bfde_row4_col1\" class=\"data row4 col1\" >57000</td>\n",
       "      <td id=\"T_4bfde_row4_col2\" class=\"data row4 col2\" >MORTGAGE</td>\n",
       "      <td id=\"T_4bfde_row4_col3\" class=\"data row4 col3\" >12.000000</td>\n",
       "      <td id=\"T_4bfde_row4_col4\" class=\"data row4 col4\" >HOMEIMPROVEMENT</td>\n",
       "      <td id=\"T_4bfde_row4_col5\" class=\"data row4 col5\" >A</td>\n",
       "      <td id=\"T_4bfde_row4_col6\" class=\"data row4 col6\" >13000</td>\n",
       "      <td id=\"T_4bfde_row4_col7\" class=\"data row4 col7\" >9.630000</td>\n",
       "      <td id=\"T_4bfde_row4_col8\" class=\"data row4 col8\" >False</td>\n",
       "      <td id=\"T_4bfde_row4_col9\" class=\"data row4 col9\" >0.230000</td>\n",
       "      <td id=\"T_4bfde_row4_col10\" class=\"data row4 col10\" >False</td>\n",
       "      <td id=\"T_4bfde_row4_col11\" class=\"data row4 col11\" >5</td>\n",
       "    </tr>\n",
       "  </tbody>\n",
       "</table>\n"
      ],
      "text/plain": [
       "<pandas.io.formats.style.Styler at 0x179a6ce9210>"
      ]
     },
     "metadata": {},
     "output_type": "display_data"
    }
   ],
   "source": [
    "sample_data = eda_desc.get_data_samples(5)\n",
    "DisplayUtils.show_dataframe_notebook(sample_data)"
   ]
  },
  {
   "cell_type": "markdown",
   "id": "df9c06ae",
   "metadata": {},
   "source": [
    "- Print dataset summary"
   ]
  },
  {
   "cell_type": "code",
   "execution_count": 41,
   "id": "dfc298f9",
   "metadata": {},
   "outputs": [
    {
     "name": "stdout",
     "output_type": "stream",
     "text": [
      "\n",
      "=== Dataset Summary ===\n",
      "<class 'pandas.core.frame.DataFrame'>\n",
      "RangeIndex: 32581 entries, 0 to 32580\n",
      "Columns: 12 entries, person_age to cb_person_cred_hist_length\n",
      "dtypes: bool(2), float64(3), int64(4), object(3)\n",
      "\n",
      "Duplicate Count: 165\n",
      "\n",
      "Missing Values:\n",
      "Feature                       Count\n",
      "--------------------------  -------\n",
      "person_age                        0\n",
      "person_income                     0\n",
      "person_home_ownership             0\n",
      "person_emp_length               895\n",
      "loan_intent                       0\n",
      "loan_grade                        0\n",
      "loan_amnt                         0\n",
      "loan_int_rate                  3116\n",
      "loan_status                       0\n",
      "loan_percent_income               9\n",
      "cb_person_default_on_file         0\n",
      "cb_person_cred_hist_length        0\n",
      "\n",
      "Missing Percentages:\n",
      "Feature                     Percentage\n",
      "--------------------------  ------------\n",
      "person_age                  0.00%\n",
      "person_income               0.00%\n",
      "person_home_ownership       0.00%\n",
      "person_emp_length           2.75%\n",
      "loan_intent                 0.00%\n",
      "loan_grade                  0.00%\n",
      "loan_amnt                   0.00%\n",
      "loan_int_rate               9.56%\n",
      "loan_status                 0.00%\n",
      "loan_percent_income         0.03%\n",
      "cb_person_default_on_file   0.00%\n",
      "cb_person_cred_hist_length  0.00%\n",
      "\n",
      "Unique Values:\n",
      "Feature                       Count\n",
      "--------------------------  -------\n",
      "person_age                       58\n",
      "person_income                  4295\n",
      "person_home_ownership             4\n",
      "person_emp_length                36\n",
      "loan_intent                       6\n",
      "loan_grade                        7\n",
      "loan_amnt                       753\n",
      "loan_int_rate                   348\n",
      "loan_status                       2\n",
      "loan_percent_income              76\n",
      "cb_person_default_on_file         2\n",
      "cb_person_cred_hist_length       29\n"
     ]
    }
   ],
   "source": [
    "dataset_summary = eda_desc.get_dataset_summary()\n",
    "DisplayUtils.show_summary_console(dataset_summary)"
   ]
  },
  {
   "cell_type": "markdown",
   "id": "eacc9f3e",
   "metadata": {},
   "source": [
    "- Display/Save summaries of feature(s)"
   ]
  },
  {
   "cell_type": "code",
   "execution_count": 42,
   "id": "e1aac227",
   "metadata": {},
   "outputs": [
    {
     "name": "stdout",
     "output_type": "stream",
     "text": [
      "\n",
      "=== High-Level Feature Summary ===\n",
      "+---------------------+------------+---------------+-----------------------+-------------------+-------------+------------+--------------+---------------+-------------+---------------------+---------------------------+----------------------------+\n",
      "|      Statistic      | person_age | person_income | person_home_ownership | person_emp_length | loan_intent | loan_grade |  loan_amnt   | loan_int_rate | loan_status | loan_percent_income | cb_person_default_on_file | cb_person_cred_hist_length |\n",
      "+---------------------+------------+---------------+-----------------------+-------------------+-------------+------------+--------------+---------------+-------------+---------------------+---------------------------+----------------------------+\n",
      "|        count        |  32581.00  |   32581.00    |          N/A          |     31686.00      |     N/A     |    N/A     |   32581.00   |   29465.00    |     N/A     |      32572.00       |            N/A            |          32581.00          |\n",
      "|        mean         |   27.73    |   66074.85    |          N/A          |       4.79        |     N/A     |    N/A     |   9589.37    |     11.01     |     N/A     |        0.17         |            N/A            |            5.80            |\n",
      "|         std         |    6.35    |   61983.12    |          N/A          |       4.14        |     N/A     |    N/A     |   6322.09    |     3.24      |     N/A     |        0.11         |            N/A            |            4.06            |\n",
      "|         min         |   20.00    |    4000.00    |          N/A          |       0.00        |     N/A     |    N/A     |    500.00    |     5.42      |     N/A     |        0.01         |            N/A            |            2.00            |\n",
      "|         25%         |   23.00    |   38500.00    |          N/A          |       2.00        |     N/A     |    N/A     |   5000.00    |     7.90      |     N/A     |        0.09         |            N/A            |            3.00            |\n",
      "|         50%         |   26.00    |   55000.00    |          N/A          |       4.00        |     N/A     |    N/A     |   8000.00    |     10.99     |     N/A     |        0.15         |            N/A            |            4.00            |\n",
      "|         75%         |   30.00    |   79200.00    |          N/A          |       7.00        |     N/A     |    N/A     |   12200.00   |     13.47     |     N/A     |        0.23         |            N/A            |            8.00            |\n",
      "|         max         |   144.00   |  6000000.00   |          N/A          |      123.00       |     N/A     |    N/A     |   35000.00   |     23.22     |     N/A     |        0.83         |            N/A            |           30.00            |\n",
      "|      skewness       |    2.58    |     32.87     |          N/A          |       2.61        |     N/A     |    N/A     |     1.19     |     0.21      |     N/A     |        1.07         |            N/A            |            1.66            |\n",
      "|      kurtosis       |   18.56    |    2693.27    |          N/A          |       43.72       |     N/A     |    N/A     |     1.42     |     -0.67     |     N/A     |        1.22         |            N/A            |            3.72            |\n",
      "|         5%          |   22.00    |   22880.00    |          N/A          |       0.00        |     N/A     |    N/A     |   2000.00    |     6.03      |     N/A     |        0.04         |            N/A            |            2.00            |\n",
      "|         95%         |   40.00    |   138000.00   |          N/A          |       13.00       |     N/A     |    N/A     |   24000.00   |     16.32     |     N/A     |        0.38         |            N/A            |           14.00            |\n",
      "|   missing_values    |     0      |       0       |           0           |        895        |      0      |     0      |      0       |     3116      |      0      |          9          |             0             |             0              |\n",
      "| missing_percentage  |    0.00    |     0.00      |         0.00          |       2.75        |    0.00     |    0.00    |     0.00     |     9.56      |    0.00     |        0.03         |           0.00            |            0.00            |\n",
      "|   distinct_count    |     58     |     4295      |           4           |        36         |      6      |     7      |     753      |      348      |      2      |         76          |             2             |             29             |\n",
      "| distinct_percentage |    0.18    |     13.18     |          N/A          |       0.11        |     N/A     |    N/A     |     2.31     |     1.07      |     N/A     |        0.23         |            N/A            |            0.09            |\n",
      "|     zero_values     |     0      |       0       |          N/A          |       4105        |     N/A     |    N/A     |      0       |       0       |     N/A     |          0          |            N/A            |             0              |\n",
      "|   zero_percentage   |    0.00    |     0.00      |          N/A          |       12.60       |     N/A     |    N/A     |     0.00     |     0.00      |     N/A     |        0.00         |            N/A            |            0.00            |\n",
      "|        range        |   124.00   |  5996000.00   |          N/A          |      123.00       |     N/A     |    N/A     |   34500.00   |     17.80     |     N/A     |        0.82         |            N/A            |           28.00            |\n",
      "|         iqr         |    7.00    |   40700.00    |          N/A          |       5.00        |     N/A     |    N/A     |   7200.00    |     5.57      |     N/A     |        0.14         |            N/A            |            5.00            |\n",
      "|      variance       |   40.30    | 3841907061.81 |          N/A          |       17.16       |     N/A     |    N/A     | 39968779.56  |     10.50     |     N/A     |        0.01         |            N/A            |           16.44            |\n",
      "|         sum         | 903621.00  | 2152784638.00 |          N/A          |     151766.00     |     N/A     |    N/A     | 312431300.00 |   324459.59   |     N/A     |       5545.40       |            N/A            |         189107.00          |\n",
      "+---------------------+------------+---------------+-----------------------+-------------------+-------------+------------+--------------+---------------+-------------+---------------------+---------------------------+----------------------------+\n"
     ]
    }
   ],
   "source": [
    "# single_feature_summary = eda_desc.get_feature_summary(\"loan_amnt\")\n",
    "# DisplayUtils.print_feature_summary(\"loan_amnt\", single_feature_summary)\n",
    "\n",
    "All_features_summary = eda_desc.get_all_feature_summaries()\n",
    "DisplayUtils.print_high_level_summary(All_features_summary)"
   ]
  },
  {
   "cell_type": "markdown",
   "id": "28026c22",
   "metadata": {},
   "source": [
    "- Save Descriptive Analysis Summary to CSV\n",
    "\n",
    "This cell formats the high-level feature summaries into a structured DataFrame and saves it as a CSV or Excel file. The formatting is handled by `FormatUtils`, which extracts selected statistics for each feature, and the output is saved using `SaveUtils`."
   ]
  },
  {
   "cell_type": "code",
   "execution_count": 43,
   "id": "90061da2",
   "metadata": {},
   "outputs": [
    {
     "name": "stdout",
     "output_type": "stream",
     "text": [
      "Data saved to c:\\Data Science Projects\\Daanish\\projects\\probability_of_default\\data/output/descriptive_summary.csv successfully.\n"
     ]
    },
    {
     "ename": "AttributeError",
     "evalue": "'SaveUtils' object has no attribute 'save_dataframe_to_excel'",
     "output_type": "error",
     "traceback": [
      "\u001b[31m---------------------------------------------------------------------------\u001b[39m",
      "\u001b[31mAttributeError\u001b[39m                            Traceback (most recent call last)",
      "\u001b[36mCell\u001b[39m\u001b[36m \u001b[39m\u001b[32mIn[43]\u001b[39m\u001b[32m, line 10\u001b[39m\n\u001b[32m      7\u001b[39m save_utils.save_dataframe_to_csv(df_summary, os.path.join(output_path, \u001b[33m\"\u001b[39m\u001b[33mdescriptive_summary.csv\u001b[39m\u001b[33m\"\u001b[39m), overwrite=\u001b[38;5;28;01mTrue\u001b[39;00m)\n\u001b[32m      9\u001b[39m \u001b[38;5;66;03m# Save as an Excel file\u001b[39;00m\n\u001b[32m---> \u001b[39m\u001b[32m10\u001b[39m \u001b[43msave_utils\u001b[49m\u001b[43m.\u001b[49m\u001b[43msave_dataframe_to_excel\u001b[49m(df_summary, os.path.join(output_path, \u001b[33m\"\u001b[39m\u001b[33mdescriptive_summary.xlsx\u001b[39m\u001b[33m\"\u001b[39m), sheet_name=\u001b[33m'\u001b[39m\u001b[33mDescriptive Summary\u001b[39m\u001b[33m'\u001b[39m)\n",
      "\u001b[31mAttributeError\u001b[39m: 'SaveUtils' object has no attribute 'save_dataframe_to_excel'"
     ]
    }
   ],
   "source": [
    "# Format the summary\n",
    "df_summary = FormatUtils.high_level_summary_to_dataframe(All_features_summary)\n",
    "\n",
    "save_utils = SaveUtils()\n",
    "\n",
    "# Save as a CSV file\n",
    "save_utils.save_dataframe_to_csv(df_summary, os.path.join(output_path, \"descriptive_summary.csv\"), overwrite=True)\n",
    "\n",
    "# Save as an Excel file\n",
    "save_utils.save_dataframe_to_excel(df_summary, os.path.join(output_path, \"descriptive_summary.xlsx\"), sheet_name='Descriptive Summary')"
   ]
  }
 ],
 "metadata": {
  "kernelspec": {
   "display_name": "Python 3",
   "language": "python",
   "name": "python3"
  },
  "language_info": {
   "codemirror_mode": {
    "name": "ipython",
    "version": 3
   },
   "file_extension": ".py",
   "mimetype": "text/x-python",
   "name": "python",
   "nbconvert_exporter": "python",
   "pygments_lexer": "ipython3",
   "version": "3.11.3"
  }
 },
 "nbformat": 4,
 "nbformat_minor": 5
}
