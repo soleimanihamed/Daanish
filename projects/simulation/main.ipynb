{
 "cells": [
  {
   "cell_type": "code",
   "execution_count": 21,
   "id": "5af890f2",
   "metadata": {},
   "outputs": [],
   "source": [
    "from utils.simulation.sim_utils import RandomSimulator\n",
    "from utils.core.save_manager import SaveUtils\n",
    "from utils.data_io import load_data\n",
    "import os"
   ]
  },
  {
   "cell_type": "markdown",
   "id": "b61b3aab",
   "metadata": {},
   "source": [
    "🧪 Simulating Unscaled Normally Distributed Data with Specified Skewness and Kurtosis"
   ]
  },
  {
   "cell_type": "code",
   "execution_count": 22,
   "id": "51eb0a8b",
   "metadata": {},
   "outputs": [
    {
     "name": "stdout",
     "output_type": "stream",
     "text": [
      "Data saved to c:\\Data Science Projects\\Daanish\\projects\\simulation\\data/output/simulated_normal.csv successfully.\n"
     ]
    }
   ],
   "source": [
    "simulator = RandomSimulator(num_simulations=1000)\n",
    "df = simulator.simulate_normal(num_variables=10, target_skew=0, target_kurt=3)\n",
    "\n",
    "save_util = SaveUtils()\n",
    "save_util.save_dataframe_to_csv(df,os.path.join(os.getcwd(), \"data/output/simulated_normal.csv\"), overwrite=True)"
   ]
  },
  {
   "cell_type": "markdown",
   "id": "5446deb3",
   "metadata": {},
   "source": [
    "🧪 Simulate scaled normals (e.g., volatilities)"
   ]
  },
  {
   "cell_type": "code",
   "execution_count": 23,
   "id": "6d5180ef",
   "metadata": {},
   "outputs": [],
   "source": [
    "# params = [0.2, 0.15, 0.3]  # std devs or volatilities\n",
    "# simulator = RandomSimulator(parameters=params)\n",
    "# df = simulator.simulate_normal(target_skew=0, target_kurt=3)"
   ]
  },
  {
   "cell_type": "markdown",
   "id": "321b1844",
   "metadata": {},
   "source": [
    "📊 Simulating Poisson Data from Excel Input\n",
    "- Reads input data from an Excel file\n",
    "- Initializes a Poisson simulator\n",
    "- Simulates Poisson-distributed values\n",
    "- Saves the simulated data to an Excel file"
   ]
  },
  {
   "cell_type": "code",
   "execution_count": 24,
   "id": "6a7b23ce",
   "metadata": {},
   "outputs": [
    {
     "name": "stdout",
     "output_type": "stream",
     "text": [
      "Excel file saved to c:\\Data Science Projects\\Daanish\\projects\\simulation\\data/output/simulated_poisson.xlsx successfully.\n"
     ]
    }
   ],
   "source": [
    "df = load_data(\n",
    "    source_type='excel',\n",
    "    input_path= os.path.join(os.getcwd(), \"data/input/Poisson Simulation.xlsx\"),\n",
    "    sheet_name='Lambda Calculation',\n",
    "    usecols=['Lambda']\n",
    ")\n",
    "simulator = RandomSimulator(parameters=df['Lambda'],num_simulations = 10000)\n",
    "sim = simulator.simulate_poisson()\n",
    "save_util.save_dataframe_to_excel(\n",
    "    sim,\n",
    "    os.path.join(os.getcwd(), \"data/output/simulated_poisson.xlsx\"),\n",
    "    sheet_name=\"simulated values\", \n",
    "    overwrite=True\n",
    "    )\n"
   ]
  }
 ],
 "metadata": {
  "kernelspec": {
   "display_name": "Python 3",
   "language": "python",
   "name": "python3"
  },
  "language_info": {
   "codemirror_mode": {
    "name": "ipython",
    "version": 3
   },
   "file_extension": ".py",
   "mimetype": "text/x-python",
   "name": "python",
   "nbconvert_exporter": "python",
   "pygments_lexer": "ipython3",
   "version": "3.11.3"
  }
 },
 "nbformat": 4,
 "nbformat_minor": 5
}
